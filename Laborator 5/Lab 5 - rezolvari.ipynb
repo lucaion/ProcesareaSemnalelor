{
 "cells": [
  {
   "cell_type": "code",
   "execution_count": 2,
   "metadata": {},
   "outputs": [],
   "source": [
    "import numpy as np\n",
    "import matplotlib.pyplot as plt"
   ]
  },
  {
   "cell_type": "code",
   "execution_count": null,
   "metadata": {},
   "outputs": [],
   "source": [
    "#ex1\n",
    "\n",
    "# Amplitudine: 2\n",
    "# Valoarea amplitudinii este atinsa in varfurile pozitive sau negative ale sinusoidei\n",
    "# Componenta continua: x0 = 5\n",
    "# x(t) = 5 + 2*sin(2 * pi * 40 * t) (40 din figura 1.2, se observa un spike la 40)"
   ]
  }
 ],
 "metadata": {
  "kernelspec": {
   "display_name": "Python 3",
   "language": "python",
   "name": "python3"
  },
  "language_info": {
   "codemirror_mode": {
    "name": "ipython",
    "version": 3
   },
   "file_extension": ".py",
   "mimetype": "text/x-python",
   "name": "python",
   "nbconvert_exporter": "python",
   "pygments_lexer": "ipython3",
   "version": "3.12.0"
  }
 },
 "nbformat": 4,
 "nbformat_minor": 2
}
