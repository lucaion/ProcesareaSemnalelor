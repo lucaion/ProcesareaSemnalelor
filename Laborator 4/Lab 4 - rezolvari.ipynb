{
 "cells": [
  {
   "cell_type": "code",
   "execution_count": 1,
   "metadata": {},
   "outputs": [],
   "source": [
    "import numpy as np\n",
    "import matplotlib.pyplot as plt"
   ]
  },
  {
   "cell_type": "code",
   "execution_count": 11,
   "metadata": {},
   "outputs": [
    {
     "name": "stdout",
     "output_type": "stream",
     "text": [
      "fmin = 40, fmax = 200\n",
      "Frecvența minimă cu care trebuie eșantionat semnalul se va afla prin formula: fs >= 2B\n",
      "B = fmax - fmin = 160\n",
      "Deci frecvența minimă cu care trebuie eșantionat semnalul este: 320\n"
     ]
    }
   ],
   "source": [
    "#ex4\n",
    "fmin = 40\n",
    "fmax = 200\n",
    "print(f'fmin = {fmin}, fmax = {fmax}')\n",
    "print('Frecvența minimă cu care trebuie eșantionat semnalul se va afla prin formula: fs >= 2B')\n",
    "print(f'B = fmax - fmin = {fmax - fmin}')\n",
    "print(f'Deci frecvența minimă cu care trebuie eșantionat semnalul este: {2 * (fmax - fmin)}')"
   ]
  },
  {
   "cell_type": "code",
   "execution_count": 13,
   "metadata": {},
   "outputs": [
    {
     "name": "stdout",
     "output_type": "stream",
     "text": [
      "După vizualizarea spectogramei în timp real se poate observa că se pot distinge diferitele vocale\n"
     ]
    }
   ],
   "source": [
    "#ex5\n",
    "\n",
    "print('După vizualizarea spectogramei în timp real se poate observa că se pot distinge diferitele vocale')"
   ]
  },
  {
   "cell_type": "code",
   "execution_count": 2,
   "metadata": {},
   "outputs": [
    {
     "name": "stdout",
     "output_type": "stream",
     "text": [
      "Psemnal = 90 dB\n",
      "SNR(dB) = 80 dB\n",
      "SNR(db) = 10lg(SNR) => SNR(db) = 10lg(Psemnal/Pzgomot)\n",
      "SNR(db) = 10lg(Psemnal) - 10lg(Pzgomot)    (1)\n",
      "P(db) = 10lg(P)                            (2)\n",
      "(1), (2) => SNR(db) = Psemnal(db) - Pzgomot(db)\n",
      "=> Pzgomot(db) = Psemnal(db) - SNR(db)\n",
      "Pzgomot = 10 dB\n"
     ]
    }
   ],
   "source": [
    "#ex6\n",
    "\n",
    "print('Psemnal = 90 dB')\n",
    "print('SNR(dB) = 80 dB')\n",
    "print('SNR(db) = 10lg(SNR) => SNR(db) = 10lg(Psemnal/Pzgomot)')\n",
    "print('SNR(db) = 10lg(Psemnal) - 10lg(Pzgomot)    (1)')\n",
    "print('P(db) = 10lg(P)                            (2)')\n",
    "print('(1), (2) => SNR(db) = Psemnal(db) - Pzgomot(db)')\n",
    "print('=> Pzgomot(db) = Psemnal(db) - SNR(db)')\n",
    "print('Pzgomot = 10 dB')"
   ]
  }
 ],
 "metadata": {
  "kernelspec": {
   "display_name": "Python 3",
   "language": "python",
   "name": "python3"
  },
  "language_info": {
   "codemirror_mode": {
    "name": "ipython",
    "version": 3
   },
   "file_extension": ".py",
   "mimetype": "text/x-python",
   "name": "python",
   "nbconvert_exporter": "python",
   "pygments_lexer": "ipython3",
   "version": "3.12.0"
  }
 },
 "nbformat": 4,
 "nbformat_minor": 2
}
